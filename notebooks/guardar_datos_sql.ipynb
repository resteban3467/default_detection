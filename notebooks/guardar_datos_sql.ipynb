{
 "cells": [
  {
   "cell_type": "markdown",
   "id": "71d35823-672f-4455-8321-195630e057bc",
   "metadata": {},
   "source": [
    "### Agradecimientos y Fuentes\n",
    "\n",
    "Este análisis fue posible gracias al uso de datos públicos de alta calidad. Se extienden los agradecimientos tanto a los creadores originales del dataset como al repositorio que lo mantiene accesible.\n",
    "\n",
    "#### Fuente Original del Dataset\n",
    "El dataset fue creado y donado originalmente por los siguientes investigadores:\n",
    "\n",
    "> Yeh, I-Cheng; Lien, Che-Hui (2009). *The comparisons of data mining techniques for the predictive accuracy of probability of default of credit card clients*.\n",
    "\n",
    "#### Repositorio de Datos\n",
    "El dataset fue obtenido del Repositorio de Machine Learning de la UCI:\n",
    "\n",
    "> Lichman, M. (2013). UCI Machine Learning Repository [http://archive.ics.uci.edu/ml]. Irvine, CA: University of California, School of Information and Computer Science."
   ]
  },
  {
   "cell_type": "markdown",
   "id": "3ae622ef-3ef2-4449-b490-7680c08470aa",
   "metadata": {},
   "source": [
    "# Importar librerías\n",
    "\n",
    "Para poblar el servidor SQL, se usará este medio por lo tanto, hay que leer el archivo csv a través de pandas y el resto se verá en la otra plataforma."
   ]
  },
  {
   "cell_type": "code",
   "execution_count": 1,
   "id": "303e62b3-4a98-43ca-8f6c-1caef9d192a8",
   "metadata": {},
   "outputs": [],
   "source": [
    "import pandas as pd\n",
    "from sqlalchemy import create_engine, text"
   ]
  },
  {
   "cell_type": "markdown",
   "id": "2b69e7fc-fa55-4e82-8499-45649336d0a1",
   "metadata": {},
   "source": [
    "# Transformar de csv a DataFrame\n",
    "Este paso es muy importante para poder leer los datos en el archivo original y poder llevarlos a SQL."
   ]
  },
  {
   "cell_type": "code",
   "execution_count": 2,
   "id": "dcde80f5-da2e-4577-88c3-d082e884a8e5",
   "metadata": {},
   "outputs": [],
   "source": [
    "import pandas as pd\n",
    "ruta = \"../data/raw/UCI_Credit_Card.csv\"\n",
    "df = pd.read_csv(ruta)"
   ]
  },
  {
   "cell_type": "markdown",
   "id": "5f66eada-ef00-45ff-9d25-907b2f813fb9",
   "metadata": {},
   "source": [
    "# Exploración inicial\n",
    "Primero, hay que revisar que la tabla corresponde a lo indicado en la documentación de kaggle."
   ]
  },
  {
   "cell_type": "code",
   "execution_count": 3,
   "id": "ce91216f-8a25-4733-b88d-01841c69ae47",
   "metadata": {},
   "outputs": [
    {
     "data": {
      "text/plain": [
       "ID                              int64\n",
       "LIMIT_BAL                     float64\n",
       "SEX                             int64\n",
       "EDUCATION                       int64\n",
       "MARRIAGE                        int64\n",
       "AGE                             int64\n",
       "PAY_0                           int64\n",
       "PAY_2                           int64\n",
       "PAY_3                           int64\n",
       "PAY_4                           int64\n",
       "PAY_5                           int64\n",
       "PAY_6                           int64\n",
       "BILL_AMT1                     float64\n",
       "BILL_AMT2                     float64\n",
       "BILL_AMT3                     float64\n",
       "BILL_AMT4                     float64\n",
       "BILL_AMT5                     float64\n",
       "BILL_AMT6                     float64\n",
       "PAY_AMT1                      float64\n",
       "PAY_AMT2                      float64\n",
       "PAY_AMT3                      float64\n",
       "PAY_AMT4                      float64\n",
       "PAY_AMT5                      float64\n",
       "PAY_AMT6                      float64\n",
       "default.payment.next.month      int64\n",
       "dtype: object"
      ]
     },
     "execution_count": 3,
     "metadata": {},
     "output_type": "execute_result"
    }
   ],
   "source": [
    "df.dtypes"
   ]
  },
  {
   "cell_type": "markdown",
   "id": "e7bfd517-af85-4253-a7c3-6fd927ea92d9",
   "metadata": {},
   "source": [
    "Se puede apreciar que todo está en orden, sin embargo, es un poco incómodo ver que la última columna cuenta con \".\" como delimitadores, por lo tanto, se hará un pequeño cambio para sustituirlo por un \"_\"."
   ]
  },
  {
   "cell_type": "code",
   "execution_count": 4,
   "id": "52c2d3ca-c76a-4ceb-b7d7-aa5c2e92dd14",
   "metadata": {},
   "outputs": [
    {
     "data": {
      "text/plain": [
       "ID                              int64\n",
       "LIMIT_BAL                     float64\n",
       "SEX                             int64\n",
       "EDUCATION                       int64\n",
       "MARRIAGE                        int64\n",
       "AGE                             int64\n",
       "PAY_0                           int64\n",
       "PAY_2                           int64\n",
       "PAY_3                           int64\n",
       "PAY_4                           int64\n",
       "PAY_5                           int64\n",
       "PAY_6                           int64\n",
       "BILL_AMT1                     float64\n",
       "BILL_AMT2                     float64\n",
       "BILL_AMT3                     float64\n",
       "BILL_AMT4                     float64\n",
       "BILL_AMT5                     float64\n",
       "BILL_AMT6                     float64\n",
       "PAY_AMT1                      float64\n",
       "PAY_AMT2                      float64\n",
       "PAY_AMT3                      float64\n",
       "PAY_AMT4                      float64\n",
       "PAY_AMT5                      float64\n",
       "PAY_AMT6                      float64\n",
       "default_payment_next_month      int64\n",
       "dtype: object"
      ]
     },
     "execution_count": 4,
     "metadata": {},
     "output_type": "execute_result"
    }
   ],
   "source": [
    "df = df.rename(columns = {\"default.payment.next.month\": \"default_payment_next_month\"})\n",
    "df.dtypes"
   ]
  },
  {
   "cell_type": "markdown",
   "id": "7ed58286-5fbf-40cd-8f17-7f203eeb239f",
   "metadata": {},
   "source": [
    "# Cargar credenciales\n",
    "\n",
    "Por motivos de privacidad, he optado por usar el método de la celda de abajo para acceder a mi postgresql y no revelarlos, sin embargo, no es necesario para nada en otros dispositivos, uno solo puede simplemente agregar los datos correspondientes a las variables definidas."
   ]
  },
  {
   "cell_type": "code",
   "execution_count": 5,
   "id": "9eb38874-6db4-47e5-8947-b6ffe33c9a85",
   "metadata": {},
   "outputs": [],
   "source": [
    "import os\n",
    "from dotenv import load_dotenv\n",
    "\n",
    "load_dotenv()\n",
    "\n",
    "db_user = os.getenv('DB_USER')\n",
    "db_password = os.getenv('DB_PASSWORD')\n",
    "db_host = os.getenv('DB_HOST')\n",
    "db_port = os.getenv('DB_PORT')\n",
    "db_name = os.getenv('DB_NAME')"
   ]
  },
  {
   "cell_type": "code",
   "execution_count": 7,
   "id": "fafa8136-2315-4530-8d32-154e7508d099",
   "metadata": {},
   "outputs": [],
   "source": [
    "engine = create_engine(f'postgresql://{db_user}:{db_password}@{db_host}:{db_port}/{db_name}')"
   ]
  },
  {
   "cell_type": "code",
   "execution_count": 14,
   "id": "9970a8fb-e729-44b5-89d4-f97e14eac525",
   "metadata": {},
   "outputs": [
    {
     "name": "stdout",
     "output_type": "stream",
     "text": [
      "Datos cargados\n"
     ]
    }
   ],
   "source": [
    "with engine.connect() as connection:\n",
    "    with connection.begin() as transaction:\n",
    "        try:\n",
    "            df.to_sql(\n",
    "                'tarj_cred_default',\n",
    "                con=connection,\n",
    "                if_exists='append',\n",
    "                index=False\n",
    "            )\n",
    "            transaction.commit()\n",
    "            print(\"Datos cargados\")\n",
    "        except Exception as e:\n",
    "            print(f\"Ocurrió un error: {e}\")\n",
    "            transaction.rollback() \n"
   ]
  },
  {
   "cell_type": "markdown",
   "id": "75f67778-f884-4c40-b75c-b012abc7e5e8",
   "metadata": {},
   "source": [
    "# Código para trabajar en SQL\n",
    "\n",
    "```SQl\n",
    "SELECT\n",
    "    \"LIMIT_BAL\",\n",
    "    \"SEX\",\n",
    "    \"EDUCATION\",\n",
    "    \"MARRIAGE\",\n",
    "    \"AGE\",\n",
    "    \"PAY_0\", \"PAY_2\", \"PAY_3\", \"PAY_4\", \"PAY_5\", \"PAY_6\",\n",
    "    \"BILL_AMT1\", \"BILL_AMT2\", \"BILL_AMT3\", \"BILL_AMT4\", \"BILL_AMT5\", \"BILL_AMT6\",\n",
    "    \"PAY_AMT1\", \"PAY_AMT2\", \"PAY_AMT3\", \"PAY_AMT4\", \"PAY_AMT5\", \"PAY_AMT6\",\n",
    "\n",
    "    CASE WHEN \"LIMIT_BAL\" > 0 THEN \"BILL_AMT1\" / \"LIMIT_BAL\" ELSE 0 END AS \"ratio_utilización_1\",\n",
    "    CASE WHEN \"LIMIT_BAL\" > 0 THEN \"BILL_AMT2\" / \"LIMIT_BAL\" ELSE 0 END AS \"ratio_utilización_2\",\n",
    "    CASE WHEN \"LIMIT_BAL\" > 0 THEN \"BILL_AMT3\" / \"LIMIT_BAL\" ELSE 0 END AS \"ratio_utilización_3\",\n",
    "    CASE WHEN \"LIMIT_BAL\" > 0 THEN \"BILL_AMT4\" / \"LIMIT_BAL\" ELSE 0 END AS \"ratio_utilización_4\",\n",
    "    CASE WHEN \"LIMIT_BAL\" > 0 THEN \"BILL_AMT5\" / \"LIMIT_BAL\" ELSE 0 END AS \"ratio_utilización_5\",\n",
    "    CASE WHEN \"LIMIT_BAL\" > 0 THEN \"BILL_AMT6\" / \"LIMIT_BAL\" ELSE 0 END AS \"ratio_utilización_6\",\n",
    "    CASE WHEN \"BILL_AMT2\" > 0 THEN \"PAY_AMT1\" / \"BILL_AMT2\" ELSE 0 END AS \"ratio_pago_1\",\n",
    "    CASE WHEN \"BILL_AMT3\" > 0 THEN \"PAY_AMT2\" / \"BILL_AMT3\" ELSE 0 END AS \"ratio_pago_2\",\n",
    "    CASE WHEN \"BILL_AMT4\" > 0 THEN \"PAY_AMT3\" / \"BILL_AMT4\" ELSE 0 END AS \"ratio_pago_3\",\n",
    "    CASE WHEN \"BILL_AMT5\" > 0 THEN \"PAY_AMT4\" / \"BILL_AMT5\" ELSE 0 END AS \"ratio_pago_4\",\n",
    "    CASE WHEN \"BILL_AMT6\" > 0 THEN \"PAY_AMT5\" / \"BILL_AMT6\" ELSE 0 END AS \"ratio_pago_5\",\n",
    "\n",
    "    \"default_payment_next_month\"\n",
    "FROM\n",
    "    tarj_cred_default;"
   ]
  },
  {
   "cell_type": "markdown",
   "id": "5f89b166-f2d9-4e34-899d-060f4bb4704d",
   "metadata": {},
   "source": [
    "Se dejó la columna de sexo porque no es ético diferenciar a los clientes por el sexo con el que nacieron, de la misma forma que no se consideran sus nombres. \n",
    "Por otro lado, se crearon nuevas columnas que surgen de la interacción de otras, siendo los grupos de \"ratio de utilización\" y los \"ratio de pago\". En primer lugar, los ratios de utilización son la proporción entre la cantidad de dinero usada como crédito y el límite establecido. Por su parte, el grupo de ratio de pago sirve para ver la proporción entre la cantidad pagada y la deuda correspondiente al mes siguiente."
   ]
  }
 ],
 "metadata": {
  "kernelspec": {
   "display_name": "Python 3 (ipykernel)",
   "language": "python",
   "name": "python3"
  },
  "language_info": {
   "codemirror_mode": {
    "name": "ipython",
    "version": 3
   },
   "file_extension": ".py",
   "mimetype": "text/x-python",
   "name": "python",
   "nbconvert_exporter": "python",
   "pygments_lexer": "ipython3",
   "version": "3.13.7"
  }
 },
 "nbformat": 4,
 "nbformat_minor": 5
}
